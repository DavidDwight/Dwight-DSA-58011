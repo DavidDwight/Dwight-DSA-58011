{
  "nbformat": 4,
  "nbformat_minor": 0,
  "metadata": {
    "colab": {
      "provenance": [],
      "authorship_tag": "ABX9TyPB5gElNxc+o/YvBYbfz3jq",
      "include_colab_link": true
    },
    "kernelspec": {
      "name": "python3",
      "display_name": "Python 3"
    },
    "language_info": {
      "name": "python"
    }
  },
  "cells": [
    {
      "cell_type": "markdown",
      "metadata": {
        "id": "view-in-github",
        "colab_type": "text"
      },
      "source": [
        "<a href=\"https://colab.research.google.com/github/He11oWorldss/Dwight-DSA-58011/blob/main/Activity3.ipynb\" target=\"_parent\"><img src=\"https://colab.research.google.com/assets/colab-badge.svg\" alt=\"Open In Colab\"/></a>"
      ]
    },
    {
      "cell_type": "markdown",
      "source": [
        "Instruction: Type the python codes below in your Colab. After running your codes, answer the questions below.\n",
        "\n",
        "Given\n"
      ],
      "metadata": {
        "id": "LkcylREeSUdr"
      }
    },
    {
      "cell_type": "code",
      "source": [
        "# Creating a stack\n",
        "\n",
        "def create_stack():\n",
        "\n",
        "    stack = []\n",
        "\n",
        "    return stack"
      ],
      "metadata": {
        "id": "_cP3y4WHSV3H"
      },
      "execution_count": 10,
      "outputs": []
    },
    {
      "cell_type": "code",
      "source": [
        "# Creating an empty stack\n",
        "\n",
        "def is_empty(stack):\n",
        "\n",
        "    return len(stack) == 0"
      ],
      "metadata": {
        "id": "6OIWMoP-Sg_7"
      },
      "execution_count": 11,
      "outputs": []
    },
    {
      "cell_type": "code",
      "source": [
        "# Adding items into the stack\n",
        "\n",
        "def push(stack, item):\n",
        "\n",
        "    stack.append(item)\n",
        "\n",
        "    print(\"Pushed Element: \" + item)\n",
        "    "
      ],
      "metadata": {
        "id": "4vKcugkZSmDy"
      },
      "execution_count": 13,
      "outputs": []
    },
    {
      "cell_type": "code",
      "source": [
        "\n",
        "# Removing an element from the stack\n",
        "\n",
        "def pop(stack):\n",
        "\n",
        "    if (is_empty(stack)):\n",
        "\n",
        "        return \"The stack is empty\"\n",
        "\n",
        "    return stack.pop()\n",
        "\n",
        "\n",
        "\n",
        "\n",
        "\n",
        "stack = create_stack()\n",
        "\n",
        "push(stack, str(1))\n",
        "\n",
        "push(stack, str(2))\n",
        "\n",
        "push(stack, str(3))\n",
        "\n",
        "push(stack, str(4))\n",
        "\n",
        "push(stack, str(5))\n",
        "\n",
        "\n",
        "\n",
        "print(\"The elements in the stack are:\"+ str(stack))"
      ],
      "metadata": {
        "colab": {
          "base_uri": "https://localhost:8080/"
        },
        "id": "9BW-2dTrSo9_",
        "outputId": "960d6975-eeeb-4575-e123-220199d3b277"
      },
      "execution_count": 17,
      "outputs": [
        {
          "output_type": "stream",
          "name": "stdout",
          "text": [
            "Pushed Element: 1\n",
            "Pushed Element: 2\n",
            "Pushed Element: 3\n",
            "Pushed Element: 4\n",
            "Pushed Element: 5\n",
            "The elements in the stack are:['1', '2', '3', '4', '5']\n"
          ]
        }
      ]
    },
    {
      "cell_type": "code",
      "source": [
        "# Stack implementation in python\n",
        "# Creating a stack\n",
        "def create_stack():\n",
        "    stack = []\n",
        "    return stack\n",
        "\n",
        "# Creating an empty stack\n",
        "def is_empty(stack):\n",
        "\n",
        "    return len(stack) == 0\n",
        "\n",
        "# Adding items into the stack\n",
        "def push(stack, item):\n",
        "    stack.append(item)\n",
        "    print(\"Pushed Element: \" + item)\n",
        "\n",
        "# Removing an element from the stack\n",
        "def pop(stack):\n",
        "    if (is_empty(stack)):\n",
        "        return \"The stack is empty\"\n",
        "    return stack.pop()"
      ],
      "metadata": {
        "id": "lUyk0QnJU3-Z"
      },
      "execution_count": 19,
      "outputs": []
    },
    {
      "cell_type": "markdown",
      "source": [
        "QUESTION\n",
        "\n",
        "Upon typing the codes, what is the name of the abstract data type? How is it implemented?\n",
        "\n",
        "What is the output of the codes?\n",
        "\n",
        "If you want to type additional codes, what will be the statement to pop 3 elements from the top of the stack?\n",
        "\n",
        "If you will revise the codes, what will be the statement to determine the length of the stack? (Note: You may add additional methods to count the no. of elements in the stack)\n",
        "\n",
        "ANSWERS\n",
        "\n",
        "These abstract data types include stack, push, and pop. A new item is added to the bottom of the list using a \"stack,\" while an item is removed from the top of the list using a \"pop.\""
      ],
      "metadata": {
        "id": "Djr8WxbWTJXm"
      }
    },
    {
      "cell_type": "code",
      "source": [
        "print(\"2) OUTPUT OF THE PROGRAM: \")\n",
        "stack = create_stack()\n",
        "push(stack, str(1))\n",
        "push(stack, str(2))\n",
        "push(stack, str(3))\n",
        "push(stack, str(4))\n",
        "push(stack, str(5))\n",
        "\n",
        "\n",
        "#3) pop 3 elements from the top of the stack\n",
        "stack.pop()\n",
        "stack.pop()\n",
        "stack.pop()\n",
        "\n",
        "#4) determine the length of the stack\n",
        "print(\" \")\n",
        "print(\"3) The length of the stack is: \", len(stack))\n",
        "print(\" \")\n",
        "print(\"4) The elements in the stack are:\"+ str(stack))"
      ],
      "metadata": {
        "colab": {
          "base_uri": "https://localhost:8080/"
        },
        "id": "pnGvJKlcTxf4",
        "outputId": "05642e15-c824-4d6a-8408-3854d75e2e4a"
      },
      "execution_count": 18,
      "outputs": [
        {
          "output_type": "stream",
          "name": "stdout",
          "text": [
            "2) OUTPUT OF THE PROGRAM: \n",
            "Pushed Element: 1\n",
            "Pushed Element: 2\n",
            "Pushed Element: 3\n",
            "Pushed Element: 4\n",
            "Pushed Element: 5\n",
            " \n",
            "3) The length of the stack is:  2\n",
            " \n",
            "4) The elements in the stack are:['1', '2']\n"
          ]
        }
      ]
    },
    {
      "cell_type": "markdown",
      "source": [
        "2) OUTPUT OF THE PROGRAM: \n",
        "Pushed Element: 1\n",
        "Pushed Element: 2\n",
        "Pushed Element: 3\n",
        "Pushed Element: 4\n",
        "Pushed Element: 5\n",
        " \n",
        "3) The length of the stack is:  2\n",
        " \n",
        "4) The elements in the stack are:['1', '2']"
      ],
      "metadata": {
        "id": "FPuw0K08Tz9k"
      }
    },
    {
      "cell_type": "code",
      "source": [],
      "metadata": {
        "id": "D-plLeF5T3NY"
      },
      "execution_count": null,
      "outputs": []
    }
  ]
}