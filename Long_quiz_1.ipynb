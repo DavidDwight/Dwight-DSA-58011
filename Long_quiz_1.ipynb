{
  "nbformat": 4,
  "nbformat_minor": 0,
  "metadata": {
    "colab": {
      "provenance": [],
      "authorship_tag": "ABX9TyPz4Fu6egMwBHzRnfp1Zc6k",
      "include_colab_link": true
    },
    "kernelspec": {
      "name": "python3",
      "display_name": "Python 3"
    },
    "language_info": {
      "name": "python"
    }
  },
  "cells": [
    {
      "cell_type": "markdown",
      "metadata": {
        "id": "view-in-github",
        "colab_type": "text"
      },
      "source": [
        "<a href=\"https://colab.research.google.com/github/He11oWorldss/Dwight-DSA-58011/blob/main/Long_quiz_1.ipynb\" target=\"_parent\"><img src=\"https://colab.research.google.com/assets/colab-badge.svg\" alt=\"Open In Colab\"/></a>"
      ]
    },
    {
      "cell_type": "markdown",
      "source": [
        "Array"
      ],
      "metadata": {
        "id": "rMobq3Ltm-OZ"
      }
    },
    {
      "cell_type": "code",
      "execution_count": 1,
      "metadata": {
        "colab": {
          "base_uri": "https://localhost:8080/"
        },
        "id": "lY7lEF-umvY_",
        "outputId": "3fbfd354-5022-4d86-862c-147f3fc13f45"
      },
      "outputs": [
        {
          "output_type": "stream",
          "name": "stdout",
          "text": [
            "Full name: ['Dwight', 'Matthew', 'David']\n",
            "Reversed Full name ['David', 'Matthew', 'Dwight']\n"
          ]
        }
      ],
      "source": [
        "arr = [\"Dwight\",\"Matthew\",\"David\"]\n",
        "print(\"Full name:\",arr)\n",
        "\n",
        "res = arr[::-1]\n",
        "print(\"Reversed Full name\",res)"
      ]
    }
  ]
}