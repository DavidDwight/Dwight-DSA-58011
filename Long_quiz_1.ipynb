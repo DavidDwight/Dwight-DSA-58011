{
  "nbformat": 4,
  "nbformat_minor": 0,
  "metadata": {
    "colab": {
      "provenance": [],
      "authorship_tag": "ABX9TyPfDw450Pvy0yB7sKXmOW1q",
      "include_colab_link": true
    },
    "kernelspec": {
      "name": "python3",
      "display_name": "Python 3"
    },
    "language_info": {
      "name": "python"
    }
  },
  "cells": [
    {
      "cell_type": "markdown",
      "metadata": {
        "id": "view-in-github",
        "colab_type": "text"
      },
      "source": [
        "<a href=\"https://colab.research.google.com/github/He11oWorldss/Dwight-DSA-58011/blob/main/Long_quiz_1.ipynb\" target=\"_parent\"><img src=\"https://colab.research.google.com/assets/colab-badge.svg\" alt=\"Open In Colab\"/></a>"
      ]
    },
    {
      "cell_type": "markdown",
      "source": [
        "Array"
      ],
      "metadata": {
        "id": "rMobq3Ltm-OZ"
      }
    },
    {
      "cell_type": "code",
      "execution_count": 6,
      "metadata": {
        "colab": {
          "base_uri": "https://localhost:8080/"
        },
        "id": "lY7lEF-umvY_",
        "outputId": "4b45ee40-e7e4-4aa2-95f2-852522f8d3e6"
      },
      "outputs": [
        {
          "output_type": "stream",
          "name": "stdout",
          "text": [
            "Full name: ['Dwight Matthew David']\n",
            "Reversed Full name ['Dwight Matthew David']\n"
          ]
        }
      ],
      "source": [
        "arr = [\"Dwight Matthew David\"]\n",
        "print(\"Full name:\",arr)\n",
        "\n",
        "res = arr[::-1]\n",
        "print(\"Reversed Full name\",res)"
      ]
    }
  ]
}