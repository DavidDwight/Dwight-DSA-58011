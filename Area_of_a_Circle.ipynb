{
  "nbformat": 4,
  "nbformat_minor": 0,
  "metadata": {
    "colab": {
      "name": "Area of a Circle",
      "provenance": [],
      "authorship_tag": "ABX9TyNgjQzVIjWegyjVZLwo8geX",
      "include_colab_link": true
    },
    "kernelspec": {
      "name": "python3",
      "display_name": "Python 3"
    },
    "language_info": {
      "name": "python"
    }
  },
  "cells": [
    {
      "cell_type": "markdown",
      "metadata": {
        "id": "view-in-github",
        "colab_type": "text"
      },
      "source": [
        "<a href=\"https://colab.research.google.com/github/He11oWorldss/Dwight-DSA-58011/blob/main/Area_of_a_Circle.ipynb\" target=\"_parent\"><img src=\"https://colab.research.google.com/assets/colab-badge.svg\" alt=\"Open In Colab\"/></a>"
      ]
    },
    {
      "cell_type": "code",
      "execution_count": 7,
      "metadata": {
        "colab": {
          "base_uri": "https://localhost:8080/"
        },
        "id": "iS0DJXs3DuJ5",
        "outputId": "a338460c-4f77-41be-fe46-7a488dbd5deb"
      },
      "outputs": [
        {
          "output_type": "stream",
          "name": "stdout",
          "text": [
            "Enter the radius of a circle:54\n",
            "Area of a circle = 9156.24\n"
          ]
        }
      ],
      "source": [
        "\n",
        "r = float(input(\"Enter the radius of a circle:\"))\n",
        "PI=3.14\n",
        "area = PI * r * r\n",
        "print(\"Area of a circle = %.2f\" %area)"
      ]
    }
  ]
}