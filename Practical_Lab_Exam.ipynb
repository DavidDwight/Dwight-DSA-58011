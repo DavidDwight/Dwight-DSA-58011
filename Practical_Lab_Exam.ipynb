{
  "nbformat": 4,
  "nbformat_minor": 0,
  "metadata": {
    "colab": {
      "name": "Practical Lab Exam",
      "provenance": [],
      "authorship_tag": "ABX9TyNPW7O6Rqlxw7VuXp+rM1nP",
      "include_colab_link": true
    },
    "kernelspec": {
      "name": "python3",
      "display_name": "Python 3"
    },
    "language_info": {
      "name": "python"
    }
  },
  "cells": [
    {
      "cell_type": "markdown",
      "metadata": {
        "id": "view-in-github",
        "colab_type": "text"
      },
      "source": [
        "<a href=\"https://colab.research.google.com/github/He11oWorldss/Dwight-DSA-58011/blob/main/Practical_Lab_Exam.ipynb\" target=\"_parent\"><img src=\"https://colab.research.google.com/assets/colab-badge.svg\" alt=\"Open In Colab\"/></a>"
      ]
    },
    {
      "cell_type": "code",
      "source": [
        "#Test score computation\n",
        "\n",
        "A = float(input(\"Type the score: \"))\n",
        "B = float(input(\"Type the score: \"))\n",
        "C = float(input(\"Type the score: \"))\n",
        "D = float(input(\"Type the score: \"))\n",
        "E = float(input(\"Type the score: \"))\n",
        "F = float(input(\"Type the score: \"))\n",
        "\n",
        "sum = int(A)+int(B)+int(C)+int(D)+int(E)+int(F)\n",
        "print(\"The total score is: \", sum)"
      ],
      "metadata": {
        "colab": {
          "base_uri": "https://localhost:8080/"
        },
        "id": "ivKTt11uUNjo",
        "outputId": "1899c98b-83ab-4b72-f55e-8232783cf0d9"
      },
      "execution_count": 5,
      "outputs": [
        {
          "output_type": "stream",
          "name": "stdout",
          "text": [
            "Type the score: 12\n",
            "Type the score: 12\n",
            "Type the score: 12\n",
            "Type the score: 12\n",
            "Type the score: 2\n",
            "Type the score: 12\n",
            "The total score is:  62\n"
          ]
        }
      ]
    }
  ]
}