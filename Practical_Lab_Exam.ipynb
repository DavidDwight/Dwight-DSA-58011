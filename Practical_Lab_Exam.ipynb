{
  "nbformat": 4,
  "nbformat_minor": 0,
  "metadata": {
    "colab": {
      "name": "Practical Lab Exam",
      "provenance": [],
      "authorship_tag": "ABX9TyMPt+xotUxoTNFx+7SMd2AF",
      "include_colab_link": true
    },
    "kernelspec": {
      "name": "python3",
      "display_name": "Python 3"
    },
    "language_info": {
      "name": "python"
    }
  },
  "cells": [
    {
      "cell_type": "markdown",
      "metadata": {
        "id": "view-in-github",
        "colab_type": "text"
      },
      "source": [
        "<a href=\"https://colab.research.google.com/github/He11oWorldss/Dwight-DSA-58011/blob/main/Practical_Lab_Exam.ipynb\" target=\"_parent\"><img src=\"https://colab.research.google.com/assets/colab-badge.svg\" alt=\"Open In Colab\"/></a>"
      ]
    },
    {
      "cell_type": "code",
      "source": [
        "#Test score computation\n",
        "\n",
        "A = float(input(\"Type the score: \"))\n",
        "B = float(input(\"Type the score: \"))\n",
        "C = float(input(\"Type the score: \"))\n",
        "D = float(input(\"Type the score: \"))\n",
        "E = float(input(\"Type the score: \"))\n",
        "F = float(input(\"Type the score: \"))\n",
        "\n",
        "sum = int(A)+int(B)+int(C)+int(D)+int(E)+int(F)\n",
        "print(\"The total score is: \", sum)"
      ],
      "metadata": {
        "colab": {
          "base_uri": "https://localhost:8080/"
        },
        "id": "ivKTt11uUNjo",
        "outputId": "1bc4f08f-6bb2-4294-ea92-a14611bd160b"
      },
      "execution_count": null,
      "outputs": [
        {
          "output_type": "stream",
          "name": "stdout",
          "text": [
            "Type the score: 26\n",
            "Type the score: 49\n",
            "Type the score: 98\n",
            "Type the score: 87\n",
            "Type the score: 62\n",
            "Type the score: 75\n",
            "The total score is:  397\n"
          ]
        }
      ]
    },
    {
      "cell_type": "code",
      "source": [
        "num=[]\n",
        "sum=0\n",
        "number=int(input(\"Enter the total number you want to input\"))\n",
        "for d in range(1,number+1):\n",
        "  value=int(input(\"Input the Value of %d element: \"))\n",
        "  num.append(value)\n",
        "\n",
        "for i in range(number):\n",
        "  if(num[i]%2==1):\n",
        "    sum=sum+num[i]\n",
        "\n",
        "print(\"The sum of all odd numbers in the list is\", sum)\n",
        "\n"
      ],
      "metadata": {
        "colab": {
          "base_uri": "https://localhost:8080/"
        },
        "id": "iWbDOUBBlLTX",
        "outputId": "3231e197-36fe-4b15-f880-da30e79cbbce"
      },
      "execution_count": 42,
      "outputs": [
        {
          "output_type": "stream",
          "name": "stdout",
          "text": [
            "Enter the total number you want to input6\n",
            "Input the Value of %d element: 26\n",
            "Input the Value of %d element: 49\n",
            "Input the Value of %d element: 98\n",
            "Input the Value of %d element: 87\n",
            "Input the Value of %d element: 62\n",
            "Input the Value of %d element: 75\n",
            "The sum of all odd numbers in the list is 211\n"
          ]
        }
      ]
    }
  ]
}