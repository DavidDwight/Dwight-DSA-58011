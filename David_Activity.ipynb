{
  "nbformat": 4,
  "nbformat_minor": 0,
  "metadata": {
    "colab": {
      "provenance": [],
      "authorship_tag": "ABX9TyNiQcmqPgDkN0W4eVg6Gsah",
      "include_colab_link": true
    },
    "kernelspec": {
      "name": "python3",
      "display_name": "Python 3"
    },
    "language_info": {
      "name": "python"
    }
  },
  "cells": [
    {
      "cell_type": "markdown",
      "metadata": {
        "id": "view-in-github",
        "colab_type": "text"
      },
      "source": [
        "<a href=\"https://colab.research.google.com/github/He11oWorldss/Dwight-DSA-58011/blob/main/David_Activity.ipynb\" target=\"_parent\"><img src=\"https://colab.research.google.com/assets/colab-badge.svg\" alt=\"Open In Colab\"/></a>"
      ]
    },
    {
      "cell_type": "markdown",
      "source": [
        "Write a Python program to create an array of 10 integers and display the array items. Access individual elements through indexes and compute for the sum."
      ],
      "metadata": {
        "id": "brRYZDNabNCm"
      }
    },
    {
      "cell_type": "code",
      "execution_count": 1,
      "metadata": {
        "colab": {
          "base_uri": "https://localhost:8080/"
        },
        "id": "HGi1Uqx4bJkw",
        "outputId": "10bd2c2d-9ae1-4818-887b-88b00a48dbe5"
      },
      "outputs": [
        {
          "output_type": "stream",
          "name": "stdout",
          "text": [
            "First element: 1\n",
            "Second element: 2\n",
            "Third element: 3\n",
            "Fourth element: 4\n",
            "Fifth element: 5\n",
            "Sixth element: 6\n",
            "Seventh element: 7\n",
            "Eighth element: 8\n",
            "Ninth element: 9\n",
            "Tenth element: 0\n",
            "Sum of the array is:  45\n"
          ]
        }
      ],
      "source": [
        "import array as arr\n",
        "a = arr.array('i', [1,2,3,4,5,6,7,8,9,0])\n",
        "\n",
        "print(\"First element:\", a[0])\n",
        "print(\"Second element:\", a[1])\n",
        "print(\"Third element:\", a[2])\n",
        "print(\"Fourth element:\", a[3])\n",
        "print(\"Fifth element:\", a[4])\n",
        "print(\"Sixth element:\", a[5])\n",
        "print(\"Seventh element:\", a[6])\n",
        "print(\"Eighth element:\", a[7])\n",
        "print(\"Ninth element:\", a[8])\n",
        "print(\"Tenth element:\", a[9])\n",
        "\n",
        "def _sum(arr):\n",
        "    sum = 0\n",
        "    for i in arr:\n",
        "        sum = sum + i\n",
        "    return(sum)\n",
        "arr = []\n",
        "arr = [1,2,3,4,5,6,7,8,9,0]\n",
        "n = len(arr)\n",
        "ans = _sum(arr)\n",
        "print('Sum of the array is: ', ans)"
      ]
    },
    {
      "cell_type": "markdown",
      "source": [
        "Write a Python program to append a new item to the end of the array. Original array: numbers = [1, 2, 3, 4, 5, 6, 7, 8, 9, 10]"
      ],
      "metadata": {
        "id": "9hq0kyOKbWyR"
      }
    },
    {
      "cell_type": "code",
      "source": [
        "import array as arr\n",
        "\n",
        "a = arr.array('i', [1,2,3,4,5,6,7,8,9,10])\n",
        " \n",
        "print (\"Array before insertion : \", end =\" \")\n",
        "for i in range (0, 10):\n",
        "    print (a[i], end =\" \")\n",
        "print()\n",
        "\n",
        "a.insert(10, 11)\n",
        " \n",
        "print (\"Array after insertion : \", end =\" \")\n",
        "for i in (a):\n",
        "    print (i, end =\" \")\n",
        "print()"
      ],
      "metadata": {
        "colab": {
          "base_uri": "https://localhost:8080/"
        },
        "id": "wfOFzbYLbYLZ",
        "outputId": "9a956d01-0edb-448b-a1ad-bf26927c66f0"
      },
      "execution_count": 3,
      "outputs": [
        {
          "output_type": "stream",
          "name": "stdout",
          "text": [
            "Array before insertion :  1 2 3 4 5 6 7 8 9 10 \n",
            "Array after insertion :  1 2 3 4 5 6 7 8 9 10 11 \n"
          ]
        }
      ]
    },
    {
      "cell_type": "markdown",
      "source": [
        "Write a Python program to insert a new item before the second element in an existing array. Original array: numbers = [1, 2, 3, 4, 5, 6, 7, 8, 9, 10]"
      ],
      "metadata": {
        "id": "tWiSzT7CbbBp"
      }
    },
    {
      "cell_type": "code",
      "source": [
        "import array as arr\n",
        "\n",
        "a = arr.array('i', [1,2,3,4,5,6,7,8,9,10])\n",
        " \n",
        "print (\"Array before insertion : \", end =\" \")\n",
        "for i in range (0, 10):\n",
        "    print (a[i], end =\" \")\n",
        "print()\n",
        "\n",
        "a.insert(1, 11)\n",
        " \n",
        "print (\"Array after insertion : \", end =\" \")\n",
        "for i in (a):\n",
        "    print (i, end =\" \")\n",
        "print()"
      ],
      "metadata": {
        "colab": {
          "base_uri": "https://localhost:8080/"
        },
        "id": "74T0Mr2bbd0t",
        "outputId": "1175f857-9c03-4ce9-b3d2-be88c5606823"
      },
      "execution_count": 4,
      "outputs": [
        {
          "output_type": "stream",
          "name": "stdout",
          "text": [
            "Array before insertion :  1 2 3 4 5 6 7 8 9 10 \n",
            "Array after insertion :  1 11 2 3 4 5 6 7 8 9 10 \n"
          ]
        }
      ]
    },
    {
      "cell_type": "markdown",
      "source": [
        "Write a Python program to reverse the order of the items in the array.Original array: numbers = [5, 4, 3, 2, 1]"
      ],
      "metadata": {
        "id": "_ghGhu0xbi9l"
      }
    },
    {
      "cell_type": "code",
      "source": [
        "arr = [1,2,3,4,5]\n",
        "print(\"Original Array :\",arr)\n",
        " \n",
        "res = arr[::-1]\n",
        "print(\"Reversed Array :\",res)"
      ],
      "metadata": {
        "colab": {
          "base_uri": "https://localhost:8080/"
        },
        "id": "ILeqmnLPbkgn",
        "outputId": "820894d5-665f-4b42-8213-4a8caa626efa"
      },
      "execution_count": 5,
      "outputs": [
        {
          "output_type": "stream",
          "name": "stdout",
          "text": [
            "Original Array : [1, 2, 3, 4, 5]\n",
            "Reversed Array : [5, 4, 3, 2, 1]\n"
          ]
        }
      ]
    },
    {
      "cell_type": "markdown",
      "source": [
        "Write a Python program to get the length of the array. Original array: numbers = [5, 4, 3, 2, 1]"
      ],
      "metadata": {
        "id": "sAxEEVyjbnVM"
      }
    },
    {
      "cell_type": "code",
      "source": [
        "from operator import length_hint \n",
        "inp_lst = [5,4,3,2,1]\n",
        "print(\"Length of the array:\")\n",
        "size = length_hint(inp_lst)\n",
        "print(size)\n"
      ],
      "metadata": {
        "colab": {
          "base_uri": "https://localhost:8080/"
        },
        "id": "TbjtgtbebpSf",
        "outputId": "1ad8d191-cc01-4840-9797-d96ee8c78a31"
      },
      "execution_count": 6,
      "outputs": [
        {
          "output_type": "stream",
          "name": "stdout",
          "text": [
            "Length of the array:\n",
            "5\n"
          ]
        }
      ]
    }
  ]
}