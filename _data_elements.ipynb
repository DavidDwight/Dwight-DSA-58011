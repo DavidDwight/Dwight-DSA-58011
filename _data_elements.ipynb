{
  "nbformat": 4,
  "nbformat_minor": 0,
  "metadata": {
    "colab": {
      "provenance": [],
      "authorship_tag": "ABX9TyNOGlOYfYWWfW5omLdGQnou",
      "include_colab_link": true
    },
    "kernelspec": {
      "name": "python3",
      "display_name": "Python 3"
    },
    "language_info": {
      "name": "python"
    }
  },
  "cells": [
    {
      "cell_type": "markdown",
      "metadata": {
        "id": "view-in-github",
        "colab_type": "text"
      },
      "source": [
        "<a href=\"https://colab.research.google.com/github/He11oWorldss/Dwight-DSA-58011/blob/main/_data_elements.ipynb\" target=\"_parent\"><img src=\"https://colab.research.google.com/assets/colab-badge.svg\" alt=\"Open In Colab\"/></a>"
      ]
    },
    {
      "cell_type": "code",
      "execution_count": 1,
      "metadata": {
        "colab": {
          "base_uri": "https://localhost:8080/"
        },
        "id": "tFteltw7qF9g",
        "outputId": "624cec39-9f64-41ab-c859-1ca824bfdd54"
      },
      "outputs": [
        {
          "output_type": "stream",
          "name": "stdout",
          "text": [
            "{'1': ['4'], '2': ['1', '3', '4'], '3': ['2', '4'], '4': []}\n"
          ]
        }
      ],
      "source": [
        "#Data elements using dictionaries to implement graph\n",
        "graph20 = {\n",
        "    '1': ['4'],\n",
        "    '2': ['1', '3', '4'],\n",
        "    '3': ['2', '4'],\n",
        "    '4': [],\n",
        "}\n",
        "print(graph20)"
      ]
    },
    {
      "cell_type": "code",
      "source": [
        "#Data elements using dictionaries to implement graph\n",
        "graph = {\n",
        "    'a': ['b', 'c'],\n",
        "    'b': ['a', 'd'],\n",
        "    'c': ['a', 'd'],\n",
        "    'd': [ 'b', 'c', 'e'],\n",
        "    'e': ['e']\n",
        "}\n",
        "print(graph)"
      ],
      "metadata": {
        "colab": {
          "base_uri": "https://localhost:8080/"
        },
        "id": "PtuRG-UIqItq",
        "outputId": "82911b99-2932-43d9-f9cd-9e41230abf99"
      },
      "execution_count": 2,
      "outputs": [
        {
          "output_type": "stream",
          "name": "stdout",
          "text": [
            "{'a': ['b', 'c'], 'b': ['a', 'd'], 'c': ['a', 'd'], 'd': ['b', 'c', 'e'], 'e': ['e']}\n"
          ]
        }
      ]
    }
  ]
}